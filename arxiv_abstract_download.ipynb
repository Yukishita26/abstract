{
  "nbformat": 4,
  "nbformat_minor": 0,
  "metadata": {
    "colab": {
      "name": "arxiv_abstruct_download.ipynb",
      "provenance": [],
      "collapsed_sections": []
    },
    "kernelspec": {
      "name": "python3",
      "display_name": "Python 3"
    },
    "language_info": {
      "name": "python"
    }
  },
  "cells": [
    {
      "cell_type": "code",
      "metadata": {
        "colab": {
          "base_uri": "https://localhost:8080/"
        },
        "id": "0jLWdGtL0TX4",
        "outputId": "764a0c39-0d39-4a1b-cf0b-753be629538f"
      },
      "source": [
        "from google.colab import drive\n",
        "drive.mount('/content/drive')"
      ],
      "execution_count": 1,
      "outputs": [
        {
          "output_type": "stream",
          "text": [
            "Drive already mounted at /content/drive; to attempt to forcibly remount, call drive.mount(\"/content/drive\", force_remount=True).\n"
          ],
          "name": "stdout"
        }
      ]
    },
    {
      "cell_type": "code",
      "metadata": {
        "colab": {
          "base_uri": "https://localhost:8080/"
        },
        "id": "AW6eEHsF0Z9v",
        "outputId": "282237e0-e39d-46ee-fcc7-db8cfa3debec"
      },
      "source": [
        "!pip install arxiv"
      ],
      "execution_count": 2,
      "outputs": [
        {
          "output_type": "stream",
          "text": [
            "Requirement already satisfied: arxiv in /usr/local/lib/python3.7/dist-packages (1.2.0)\n",
            "Requirement already satisfied: feedparser in /usr/local/lib/python3.7/dist-packages (from arxiv) (6.0.2)\n",
            "Requirement already satisfied: sgmllib3k in /usr/local/lib/python3.7/dist-packages (from feedparser->arxiv) (1.0.0)\n"
          ],
          "name": "stdout"
        }
      ]
    },
    {
      "cell_type": "code",
      "metadata": {
        "colab": {
          "base_uri": "https://localhost:8080/"
        },
        "id": "ZeYQ_Nk30jQV",
        "outputId": "cabca6aa-42aa-4ab3-b459-f3fbf8646467"
      },
      "source": [
        "%cd \"drive/My Drive/word2vec\""
      ],
      "execution_count": 3,
      "outputs": [
        {
          "output_type": "stream",
          "text": [
            "/content/drive/My Drive/word2vec\n"
          ],
          "name": "stdout"
        }
      ]
    },
    {
      "cell_type": "code",
      "metadata": {
        "id": "tVwIIawE5gLj"
      },
      "source": [
        "#参考サイト\n",
        "#https://pypi.org/project/arxiv/\n",
        "#https://arxiv.org/help/api/user-manual#subject_classifications\n",
        "#https://imagisi.com/python-arxiv-line/\n",
        "\n",
        "import arxiv\n",
        "import csv\n",
        "import pandas as pd"
      ],
      "execution_count": 4,
      "outputs": []
    },
    {
      "cell_type": "code",
      "metadata": {
        "colab": {
          "base_uri": "https://localhost:8080/"
        },
        "id": "YQOtj-oZ0sn8",
        "outputId": "105f7471-7cf4-404d-90b7-d054b01edeb6"
      },
      "source": [
        "# Computation and Language\n",
        "search = arxiv.Search(\n",
        "  query = \"cs.CL\",\n",
        "  max_results=10000,\n",
        "  sort_by = arxiv.SortCriterion.SubmittedDate\n",
        ")\n",
        "\n",
        "df = pd.DataFrame(index=[])\n",
        "for result in search.get():\n",
        "    abst = result.summary\n",
        "    update = result.updated\n",
        "    published = result.published\n",
        "    abst = abst.replace(\"\\n\",\" \")\n",
        "    abst = pd.Series([published,update,abst])\n",
        "    df = df.append(abst, ignore_index=True)\n",
        "\n",
        "df.to_csv(\"arxiv_cs_CL_abstract.csv\", header=False, index=False)\n",
        "print(\"cs.CL is finished\")"
      ],
      "execution_count": 57,
      "outputs": [
        {
          "output_type": "stream",
          "text": [
            "cs.CL is finished\n"
          ],
          "name": "stdout"
        }
      ]
    },
    {
      "cell_type": "code",
      "metadata": {
        "colab": {
          "base_uri": "https://localhost:8080/"
        },
        "id": "OSnKeaFi7QbD",
        "outputId": "2d77165f-d3dc-4871-e9d6-709f0d635863"
      },
      "source": [
        "# Programming Languages\n",
        "search = arxiv.Search(\n",
        "  query = \"cs.PL\",\n",
        "  max_results=10000,\n",
        "  sort_by = arxiv.SortCriterion.SubmittedDate\n",
        ")\n",
        "\n",
        "df = pd.DataFrame(index=[])\n",
        "for result in search.get():\n",
        "    abst = result.summary\n",
        "    update = result.updated\n",
        "    published = result.published\n",
        "    abst = abst.replace(\"\\n\",\" \")\n",
        "    abst = pd.Series([published,update,abst])\n",
        "    df = df.append(abst, ignore_index=True)\n",
        "\n",
        "df.to_csv(\"arxiv_cs_PL_abstract.csv\", header=False, index=False)\n",
        "print(\"cs.PL is finished\")"
      ],
      "execution_count": 58,
      "outputs": [
        {
          "output_type": "stream",
          "text": [
            "cs.PL is finished\n"
          ],
          "name": "stdout"
        }
      ]
    },
    {
      "cell_type": "code",
      "metadata": {
        "colab": {
          "base_uri": "https://localhost:8080/"
        },
        "id": "ixFy_d2yzv5Z",
        "outputId": "e077651e-0d9a-40c5-b6f3-0fa3e860772d"
      },
      "source": [
        "# ちょいちょいエラーを返すので例外処理をしておいたほうが良い\n",
        "\n",
        "queries = [\"cs.CL\",\"cs.AI\",\"cond-mat.supr-con\",\"cond-mat.mtrl-sci\",\"cond-mat.str-el\"]\n",
        "for q in queries:\n",
        "  print(q)\n",
        "  search = arxiv.Search(\n",
        "    query = q,\n",
        "    max_results=100000,\n",
        "    sort_by = arxiv.SortCriterion.SubmittedDate\n",
        "  )\n",
        "\n",
        "  df = pd.DataFrame(index=[])\n",
        "  itr = iter(search.get())\n",
        "  for i in range(100000):\n",
        "    try:\n",
        "        result = next(itr)\n",
        "    except StopIteration as e:\n",
        "        break\n",
        "    except Exception as e:\n",
        "        print(i, e)\n",
        "        continue\n",
        "        \n",
        "    abst = result.summary\n",
        "    update = result.updated\n",
        "    published = result.published\n",
        "    abst = abst.replace(\"\\n\",\" \")\n",
        "    abst = pd.Series([published,update,abst])\n",
        "    df = df.append(abst, ignore_index=True)\n",
        "    \n",
        "  df.to_csv(f\"arxiv_{q}_abstract_100000.csv\", header=False, index=False)\n",
        "  print(f\"{q} is finished\")\n"
      ],
      "execution_count": 5,
      "outputs": [
        {
          "output_type": "stream",
          "text": [
            "cs.CL\n",
            "cs.CL is finished\n",
            "cs.AI\n",
            "27700 arxiv.UnexpectedEmptyPageError(Page of results was unexpectedly empty)\n",
            "cs.AI is finished\n",
            "cond-mat.supr-con\n",
            "14600 arxiv.UnexpectedEmptyPageError(Page of results was unexpectedly empty)\n",
            "cond-mat.supr-con is finished\n",
            "cond-mat.mtrl-sci\n",
            "7300 arxiv.UnexpectedEmptyPageError(Page of results was unexpectedly empty)\n",
            "cond-mat.mtrl-sci is finished\n",
            "cond-mat.str-el\n",
            "8400 arxiv.UnexpectedEmptyPageError(Page of results was unexpectedly empty)\n",
            "cond-mat.str-el is finished\n"
          ],
          "name": "stdout"
        }
      ]
    },
    {
      "cell_type": "code",
      "metadata": {
        "id": "KsxGnIxf7Dnr"
      },
      "source": [
        ""
      ],
      "execution_count": null,
      "outputs": []
    }
  ]
}